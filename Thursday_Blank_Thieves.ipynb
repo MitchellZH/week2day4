{
 "cells": [
  {
   "cell_type": "markdown",
   "metadata": {},
   "source": [
    "# Object-Oriented-Programming (OOP)"
   ]
  },
  {
   "cell_type": "markdown",
   "metadata": {},
   "source": [
    "## Tasks Today:\n",
    "\n",
    "   \n",
    "\n",
    "1) <b>Creating a Class (Initializing/Declaring)</b> <br>\n",
    "2) <b>Using a Class (Instantiating)</b> <br>\n",
    " &nbsp;&nbsp;&nbsp;&nbsp; a) Creating One Instance <br>\n",
    " &nbsp;&nbsp;&nbsp;&nbsp; b) Creating Multiple Instances <br>\n",
    " &nbsp;&nbsp;&nbsp;&nbsp; c) In-Class Exercise #1 - Create a Class 'Car' and instantiate three different makes of cars <br>\n",
    "3) <b>The \\__init\\__() Method</b> <br>\n",
    " &nbsp;&nbsp;&nbsp;&nbsp; a) The 'self' Attribute <br>\n",
    "4) <b>Class Attributes</b> <br>\n",
    " &nbsp;&nbsp;&nbsp;&nbsp; a) Initializing Attributes <br>\n",
    " &nbsp;&nbsp;&nbsp;&nbsp; b) Setting an Attribute Outside of the \\__init\\__() Method <br>\n",
    " &nbsp;&nbsp;&nbsp;&nbsp; c) Setting Defaults for Attributes <br>\n",
    " &nbsp;&nbsp;&nbsp;&nbsp; d) Accessing Class Attributes <br>\n",
    " &nbsp;&nbsp;&nbsp;&nbsp; e) Changing Class Attributes <br>\n",
    " &nbsp;&nbsp;&nbsp;&nbsp; f) In-Class Exercise #2 - Add a color and wheels attribute to your 'Car' class <br>\n",
    "5) <b>Class Methods</b> <br>\n",
    " &nbsp;&nbsp;&nbsp;&nbsp; a) Creating <br>\n",
    " &nbsp;&nbsp;&nbsp;&nbsp; b) Calling <br>\n",
    " &nbsp;&nbsp;&nbsp;&nbsp; c) Modifying an Attribute's Value Through a Method <br>\n",
    " &nbsp;&nbsp;&nbsp;&nbsp; d) Incrementing an Attribute's Value Through a Method <br>\n",
    " &nbsp;&nbsp;&nbsp;&nbsp; e) In-Class Exercise #3 - Add a method that prints the cars color and wheel number, then call them <br>\n",
    "6) <b>Inheritance</b> <br>\n",
    " &nbsp;&nbsp;&nbsp;&nbsp; a) Syntax for Inheriting from a Parent Class <br>\n",
    " &nbsp;&nbsp;&nbsp;&nbsp; b) The \\__init\\__() Method for a Child Class (super()) <br>\n",
    " &nbsp;&nbsp;&nbsp;&nbsp; c) Defining Attributes and Methods for the Child Class <br>\n",
    " &nbsp;&nbsp;&nbsp;&nbsp; d) Method Overriding <br>\n",
    " &nbsp;&nbsp;&nbsp;&nbsp; e) In-Class Exercise #4 - Create a class 'Ford' that inherits from 'Car' class and initialize it as a Blue Ford Explorer with 4 wheels using the super() method <br>\n",
    "7) <b>Classes as Attributes</b> <br>\n",
    "8) <b>Exercises</b> <br>\n",
    " &nbsp;&nbsp;&nbsp;&nbsp; a) Exercise #1 - Turn the shopping cart program from yesterday into an object-oriented program <br>"
   ]
  },
  {
   "cell_type": "markdown",
   "metadata": {},
   "source": [
    "## Creating a Class (Initializing/Declaring)\n",
    "<p>When creating a class, function, or even a variable you are initializing that object. Initializing and Declaring occur at the same time in Python, whereas in lower level languages you have to declare an object before initializing it. This is the first step in the process of using a class.</p>"
   ]
  },
  {
   "cell_type": "code",
   "execution_count": 4,
   "metadata": {},
   "outputs": [],
   "source": [
    "class Car():\n",
    "    wheels = 4\n",
    "    color = \"blue\"\n",
    "\n",
    "\n"
   ]
  },
  {
   "cell_type": "markdown",
   "metadata": {},
   "source": [
    "## Using a Class (Instantiating)\n",
    "<p>The process of creating a class is called <i>Instantiating</i>. Each time you create a variable of that type of class, it is referred to as an <i>Instance</i> of that class. This is the second step in the process of using a class.</p>"
   ]
  },
  {
   "cell_type": "markdown",
   "metadata": {},
   "source": [
    "##### Creating One Instance"
   ]
  },
  {
   "cell_type": "code",
   "execution_count": 7,
   "metadata": {},
   "outputs": [
    {
     "name": "stdout",
     "output_type": "stream",
     "text": [
      "blue\n"
     ]
    }
   ],
   "source": [
    "ford = Car()\n",
    "\n",
    "print(ford.color)"
   ]
  },
  {
   "cell_type": "markdown",
   "metadata": {},
   "source": [
    "##### Creating Multiple Instances"
   ]
  },
  {
   "cell_type": "code",
   "execution_count": 8,
   "metadata": {},
   "outputs": [
    {
     "name": "stdout",
     "output_type": "stream",
     "text": [
      "<__main__.Car object at 0x00000243BEA02E20>\n"
     ]
    }
   ],
   "source": [
    "nissan = Car()\n",
    "chevy = Car()\n",
    "\n",
    "print(nissan)"
   ]
  },
  {
   "cell_type": "markdown",
   "metadata": {},
   "source": [
    "##### In-Class Exercise #1 - Create a Class 'Car' and Instantiate three different makes of cars"
   ]
  },
  {
   "cell_type": "code",
   "execution_count": null,
   "metadata": {},
   "outputs": [],
   "source": [
    "class Dog():\n",
    "    legs: 4\n",
    "    tail: True\n",
    "\n",
    "dalmation = Dog()\n",
    "Chihuaha = Dog()\n",
    "pitbull = Dog()"
   ]
  },
  {
   "cell_type": "markdown",
   "metadata": {},
   "source": [
    "## The \\__init\\__() Method <br>\n",
    "<p>This method is used in almost every created class, and called only once upon the creation of the class instance. This method will initialize all variables needed for the object.</p>"
   ]
  },
  {
   "cell_type": "code",
   "execution_count": 9,
   "metadata": {},
   "outputs": [
    {
     "name": "stdout",
     "output_type": "stream",
     "text": [
      "Black\n",
      "White\n"
     ]
    }
   ],
   "source": [
    "class Car():\n",
    "    wheels = 4\n",
    "    def __init__(self, make, model, color, engine):\n",
    "        self.make = make\n",
    "        self.model = model\n",
    "        self.color = color\n",
    "        self.engine = engine\n",
    "# self is the current instance i am dealing with\n",
    "nissan = Car('Nissan', 'Altima', 'White', 'v4')\n",
    "ford = Car('Ford', 'Raptor', 'Black', 'v8')\n",
    "\n",
    "# Instance variables\n",
    "print(ford.color)\n",
    "print(nissan.color)\n",
    "\n",
    "# class attributes\n",
    "print(ford.wheels)\n",
    "print(nissan.wheels)"
   ]
  },
  {
   "cell_type": "markdown",
   "metadata": {},
   "source": [
    "##### The 'self' Attribute <br>\n",
    "<p>This attribute is required to keep track of specific instance's attributes. Without the self attribute, the program would not know how to reference or keep track of an instance's attributes.</p>"
   ]
  },
  {
   "cell_type": "code",
   "execution_count": null,
   "metadata": {},
   "outputs": [],
   "source": [
    "# see above"
   ]
  },
  {
   "cell_type": "markdown",
   "metadata": {},
   "source": [
    "## Class Attributes <br>\n",
    "<p>While variables are inside of a class, they are referred to as attributes and not variables. When someone says 'attribute' you know they're speaking about a class. Attributes can be initialized through the init method, or outside of it.</p>"
   ]
  },
  {
   "cell_type": "markdown",
   "metadata": {},
   "source": [
    "##### Initializing Attributes"
   ]
  },
  {
   "cell_type": "code",
   "execution_count": null,
   "metadata": {},
   "outputs": [],
   "source": [
    "# see above"
   ]
  },
  {
   "cell_type": "markdown",
   "metadata": {},
   "source": [
    "##### Accessing Class Attributes"
   ]
  },
  {
   "cell_type": "code",
   "execution_count": null,
   "metadata": {
    "scrolled": true
   },
   "outputs": [],
   "source": [
    "# See Above"
   ]
  },
  {
   "cell_type": "markdown",
   "metadata": {},
   "source": [
    "##### Setting Defaults for Attributes"
   ]
  },
  {
   "cell_type": "code",
   "execution_count": 11,
   "metadata": {},
   "outputs": [
    {
     "name": "stdout",
     "output_type": "stream",
     "text": [
      "4\n",
      "2\n",
      "coupe\n"
     ]
    }
   ],
   "source": [
    "class Vehicle():\n",
    "    \n",
    "    def __init__(self, make, model, classification, wheels=4):\n",
    "        self.make = make\n",
    "        self.model = model\n",
    "        self.classification = classification\n",
    "        self.wheels = wheels\n",
    "\n",
    "myCar = Vehicle('Hyundai', 'Sonata', 'Sedan')\n",
    "print(myCar.wheels)\n",
    "\n",
    "motorcycle = Vehicle('Harley', 'Fat Bob', 'Motorcycle', 2)\n",
    "print(motorcycle.wheels)\n",
    "\n",
    "myCar.classification = 'coupe'\n",
    "\n",
    "print(myCar.classification)"
   ]
  },
  {
   "attachments": {},
   "cell_type": "markdown",
   "metadata": {},
   "source": [
    "##### Changing Instance Attributes <br>\n",
    "<p>Keep in mind there are global class attributes and then there are attributes only available to each class instance which won't effect other classes.</p>"
   ]
  },
  {
   "cell_type": "code",
   "execution_count": null,
   "metadata": {},
   "outputs": [],
   "source": [
    "# see above"
   ]
  },
  {
   "cell_type": "markdown",
   "metadata": {},
   "source": [
    "##### In-Class Exercise #2 - Add a doors and seats attribute to your 'Car' class then print out two different instances with different doors and seats"
   ]
  },
  {
   "cell_type": "code",
   "execution_count": 13,
   "metadata": {},
   "outputs": [
    {
     "name": "stdout",
     "output_type": "stream",
     "text": [
      "4\n"
     ]
    }
   ],
   "source": [
    "class Car():\n",
    "    wheels = 4\n",
    "    color = \"blue\"\n",
    "\n",
    "    def __init__(self,doors,seats):\n",
    "        self.doors = doors\n",
    "        self.seats = seats\n",
    "\n",
    "chevy = Car(4, 4)\n",
    "jeep = Car(2, 2)\n",
    "\n",
    "print(chevy.seats)"
   ]
  },
  {
   "cell_type": "markdown",
   "metadata": {},
   "source": [
    "## Class Methods <br>\n",
    "<p>While inside of a class, functions are referred to as 'methods'. If you hear someone mention methods, they're speaking about classes. Methods are essentially functions, but only callable on the instances of a class.</p>"
   ]
  },
  {
   "cell_type": "markdown",
   "metadata": {},
   "source": [
    "##### Creating"
   ]
  },
  {
   "cell_type": "code",
   "execution_count": 15,
   "metadata": {},
   "outputs": [
    {
     "name": "stdout",
     "output_type": "stream",
     "text": [
      "Hi my name is Mitchell. I am 27 years old and have Brown eyes.\n",
      "You have changed your naem to The Hammer.\n",
      "Happy Birthdya you're 28 years old\n",
      "Hi my name is The Hammer. I am 28 years old and have Brown eyes.\n"
     ]
    }
   ],
   "source": [
    "class Person():\n",
    "    \n",
    "    def __init__(self, name, age, eyecolor='Brown'):\n",
    "        self.name = name\n",
    "        self.age = age\n",
    "        self.eyecolor = eyecolor\n",
    "\n",
    "    def getInfo(self):\n",
    "        return f\"Hi my name is {self.name}. I am {self.age} years old and have {self.eyecolor} eyes.\"\n",
    "    \n",
    "    def nameChange(self, newName):\n",
    "        self.name = newName\n",
    "        print(f\"You have changed your naem to {self.name}.\")\n",
    "\n",
    "    def birthday(self):\n",
    "        self.age += 1\n",
    "        print(f\"Happy Birthday you're {self.age} years old\")\n",
    "\n",
    "me = Person(\"Mitchell\", 27)\n",
    "\n",
    "print(me.getInfo())\n",
    "\n",
    "me.nameChange(\"The Hammer\")\n",
    "\n",
    "me.birthday()\n",
    "\n",
    "print(me.getInfo())\n",
    "\n",
    "\n",
    "\n"
   ]
  },
  {
   "cell_type": "markdown",
   "metadata": {},
   "source": [
    "##### Calling"
   ]
  },
  {
   "cell_type": "code",
   "execution_count": null,
   "metadata": {},
   "outputs": [],
   "source": [
    "# See Above"
   ]
  },
  {
   "cell_type": "markdown",
   "metadata": {},
   "source": [
    "##### Modifying an Attribute's Value Through a Method"
   ]
  },
  {
   "cell_type": "code",
   "execution_count": null,
   "metadata": {},
   "outputs": [],
   "source": [
    "# see above\n"
   ]
  },
  {
   "cell_type": "markdown",
   "metadata": {},
   "source": [
    "##### Incrementing an Attribute's Value Through a Method"
   ]
  },
  {
   "cell_type": "code",
   "execution_count": null,
   "metadata": {},
   "outputs": [],
   "source": [
    "# see above\n"
   ]
  },
  {
   "cell_type": "markdown",
   "metadata": {},
   "source": [
    "## Inheritance <br>\n",
    "<p>You can create a child-parent relationship between two classes by using inheritance. What this allows you to do is have overriding methods, but also inherit traits from the parent class. Think of it as an actual parent and child, the child will inherit the parent's genes, as will the classes in OOP</p>"
   ]
  },
  {
   "cell_type": "markdown",
   "metadata": {},
   "source": [
    "##### Syntax for Inheriting from a Parent Class"
   ]
  },
  {
   "cell_type": "code",
   "execution_count": 17,
   "metadata": {},
   "outputs": [
    {
     "name": "stdout",
     "output_type": "stream",
     "text": [
      "Hello my name is Melody, I'm a Black Lab, and I have 4 legs.\n",
      "I love breathing air\n"
     ]
    }
   ],
   "source": [
    "class Mammal():\n",
    "    fur=True\n",
    "    def __init__(self, furColor, species, legs=4):\n",
    "        self.furColor = furColor\n",
    "        self.species = species\n",
    "        self.legs = legs\n",
    "\n",
    "    def breath(self):\n",
    "        return \"I love breathing air\"\n",
    "    \n",
    "class Dog(Mammal):\n",
    "    def __init__(self, name, breed, furColor, legs=4):\n",
    "        super().__init__(furColor,legs)\n",
    "        self.name = name\n",
    "        self.breed = breed\n",
    "\n",
    "    def greet(self):\n",
    "        return f\"Hello my name is {self.name}, I'm a {self.furColor} {self.breed}, and I have {self.legs} legs.\"\n",
    "    \n",
    "myDog = Dog(\"Melody\", \"Lab\", \"Black\")\n",
    "\n",
    "print(myDog.greet())\n",
    "\n",
    "print(myDog.breath())"
   ]
  },
  {
   "cell_type": "markdown",
   "metadata": {},
   "source": [
    "##### The \\__init\\__() Method for a Child Class - super()"
   ]
  },
  {
   "cell_type": "code",
   "execution_count": null,
   "metadata": {
    "scrolled": true
   },
   "outputs": [],
   "source": [
    "# see above"
   ]
  },
  {
   "cell_type": "markdown",
   "metadata": {},
   "source": [
    "##### Defining Attributes and Methods for the Child Class"
   ]
  },
  {
   "cell_type": "code",
   "execution_count": null,
   "metadata": {},
   "outputs": [],
   "source": [
    "# See Above"
   ]
  },
  {
   "cell_type": "markdown",
   "metadata": {},
   "source": [
    "# Exercises"
   ]
  },
  {
   "cell_type": "markdown",
   "metadata": {},
   "source": [
    "### Exercise 1 - Turn the shopping cart program from yesterday into an object-oriented program\n",
    "\n",
    "The comments in the cell below are there as a guide for thinking about the problem. However, if you feel a different way is best for you and your own thought process, please do what feels best for you by all means."
   ]
  },
  {
   "cell_type": "code",
   "execution_count": 3,
   "metadata": {},
   "outputs": [
    {
     "name": "stdout",
     "output_type": "stream",
     "text": [
      "-----Welcome to the cart-----\n",
      "Showing your cart:\n",
      "You added 50x Peas\n",
      "Showing your cart:\n",
      "Peas: 50\n",
      "Showing your cart:\n",
      "Peas: 50\n",
      "Shopping cart updated\n",
      "Showing your cart:\n",
      "Greens: 5\n",
      "Showing your cart:\n",
      "Greens: 5\n",
      "Greens deleted\n",
      "Showing your cart:\n",
      "Thanks for shopping at the shopping cart!\n"
     ]
    }
   ],
   "source": [
    "# Create a class called cart that retains items and has methods to add, remove, and show\n",
    "\n",
    "class Cart():\n",
    "    def __init__(self):\n",
    "        self.shoppingCart = {}\n",
    "        self.userInput = \"\"\n",
    "        \n",
    "    def displayCart(self):\n",
    "        print(\"Showing your cart:\")\n",
    "        for key, value in self.shoppingCart.items():\n",
    "            print(f\"{key}: {value}\")\n",
    "\n",
    "    def promptUser(self):\n",
    "        self.userInput = input(\"Would you like to Show/Add/Edit/Delete or Quit?\").upper()\n",
    "\n",
    "    def runner(self):\n",
    "        print(\"-----Welcome to the cart-----\")\n",
    "        self.promptUser()\n",
    "        while True:\n",
    "            if self.userInput == \"QUIT\":\n",
    "                break\n",
    "            elif self.userInput == \"SHOW\":\n",
    "                self.displayCart()\n",
    "                self.promptUser()\n",
    "                if self.userInput == \"Quit\":\n",
    "                    break\n",
    "            elif self.userInput == \"ADD\":\n",
    "                addedItem = input(\"Enter Item\").title()\n",
    "                if addedItem == \"Quit\":\n",
    "                    break\n",
    "                itemQuantity = input(\"Enter Quantity\").title()\n",
    "                if itemQuantity == \"Quit\":\n",
    "                    break\n",
    "                self.shoppingCart[addedItem] = itemQuantity\n",
    "                print(f\"You added {itemQuantity}x {addedItem}\")\n",
    "                self.displayCart()\n",
    "                self.promptUser()\n",
    "                if self.userInput == \"QUIT\":\n",
    "                    break\n",
    "            elif self.userInput == \"DELETE\":\n",
    "                self.displayCart()\n",
    "                self.userInput = input(\"What would you like to delete?\").title()\n",
    "                if self.userInput == \"Quit\":\n",
    "                    break\n",
    "                print(f\"{self.userInput} deleted\")\n",
    "                del self.shoppingCart[self.userInput]\n",
    "                self.displayCart()\n",
    "                self.promptUser()\n",
    "                if self.userInput == \"Quit\":\n",
    "                    break\n",
    "            elif self.userInput == \"EDIT\":\n",
    "                print(\"What would you like to edit?\")\n",
    "                self.displayCart()\n",
    "                self.userInput = input(\"What would you like to edit?\").title()\n",
    "                if self.userInput == \"Quit\":\n",
    "                    break\n",
    "                addedItem = input(f\"what would you like instead of {self.userInput}\").title()\n",
    "                if addedItem == \"Quit\":\n",
    "                    break\n",
    "                itemQuantity = input(\"How Many?\").title()\n",
    "                if itemQuantity == \"Quit\":\n",
    "                    break\n",
    "                del self.shoppingCart[self.userInput]\n",
    "                self.shoppingCart[addedItem] = itemQuantity\n",
    "                print(f\"Shopping cart updated\")\n",
    "                self.displayCart()\n",
    "                self.promptUser()\n",
    "                if self.userInput == \"Quit\":\n",
    "                    break\n",
    "            else:\n",
    "                print(\"Invalid response please try again\")\n",
    "                self.promptUser()\n",
    "                if self.userInput == \"Quit\":\n",
    "                    break\n",
    "\n",
    "        print(\"Thanks for shopping at the shopping cart!\")\n",
    "\n",
    "newCart = Cart()\n",
    "\n",
    "newCart.runner()\n",
    "\n",
    "    \n",
    "    "
   ]
  },
  {
   "cell_type": "markdown",
   "metadata": {},
   "source": [
    "### Exercise 2 - Write a Python class which has two methods get_String and print_String. get_String accept a string from the user and print_String print the string in upper case"
   ]
  },
  {
   "cell_type": "code",
   "execution_count": null,
   "metadata": {},
   "outputs": [],
   "source": []
  }
 ],
 "metadata": {
  "kernelspec": {
   "display_name": "Python 3",
   "language": "python",
   "name": "python3"
  },
  "language_info": {
   "codemirror_mode": {
    "name": "ipython",
    "version": 3
   },
   "file_extension": ".py",
   "mimetype": "text/x-python",
   "name": "python",
   "nbconvert_exporter": "python",
   "pygments_lexer": "ipython3",
   "version": "3.9.7"
  },
  "vscode": {
   "interpreter": {
    "hash": "aa82987a71ca0339a52998cd22613b0c002bda8349fa32a0cb67ceec3936a2bf"
   }
  }
 },
 "nbformat": 4,
 "nbformat_minor": 2
}
